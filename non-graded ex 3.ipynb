{
 "cells": [
  {
   "cell_type": "markdown",
   "metadata": {},
   "source": [
    "Create a treasure hunt game where a user has to figure out the location of the treasure on a grid by using just the commands of E, W, N, and S, indicating East, West, North, and South, respectively. \n",
    "\n",
    "REQUIREMENTS:\n",
    "1. Define the size of the grid. It could be any number, but start from 5\n",
    "2. Assign the player a random position on the map. Do the same for the location of the treasure. (HINT: use randint() to generate a random set of coordinates)\n",
    "    2.1. Since it's 2-dimensional grid, the location of both the player and the treasure will be coordinates, like (x,y)\n",
    "3. Decide the maximum moves the player can make and keep track of the number of moves.\n",
    "4. Calculate the initial distance between the player and the treasure location\n",
    "5. Allow player to make as many moves as maximum moves allowed\n",
    "    5.1. Depending on which direction the player moves (N, S, E, or W), recalculate player's position and their distance from the treasure location\n",
    "    5.2. If the move brings player closer to the treasure, let the user know that they are getting closer\n",
    "    5.3. If the move takes player away from the treasure, let the user know that they are moving farther\n",
    "    5.4. If the player makes an illegal move, then let the user know that that move is not allowed. \n",
    "    5.5. If the new player position is the same as the treasure position, let the user know that they have found the treasure\n",
    "    5.6. If the moves made by the player are the same as maximum moves allowed, let the user know that no more moves are possible and that they have lost the game. Also show them where the treasure was located.\n",
    "    5.7. If there are still moves left, then the game should continue and keep asking the user for their moves. \n"
   ]
  },
  {
   "cell_type": "code",
   "execution_count": 6,
   "metadata": {},
   "outputs": [
    {
     "name": "stdout",
     "output_type": "stream",
     "text": [
      "Player starting position: [1, 1]\n",
      "Treasure position (debugging info): [2, 2]\n",
      "You are getting closer!\n",
      "Moves remaining: 9\n",
      "Congratulations! You found the treasure!\n"
     ]
    }
   ],
   "source": [
    "import random\n",
    "\n",
    "grid_size = 5\n",
    "\n",
    "player_position = [random.randint(0, grid_size - 1), random.randint(0, grid_size - 1)]\n",
    "treasure_position = [random.randint(0, grid_size - 1), random.randint(0, grid_size - 1)]\n",
    "\n",
    "\n",
    "print(f\"Player starting position: {player_position}\")\n",
    "print(f\"Treasure position (debugging info): {treasure_position}\")\n",
    "\n",
    "max_moves = 10\n",
    "moves_left = max_moves\n",
    "\n",
    "\n",
    "def distance(pos1, pos2):\n",
    "    return abs(pos1[0] - pos2[0]) + abs(pos1[1] - pos2[1])\n",
    "\n",
    "while moves_left > 0:\n",
    "\n",
    "    current_distance = distance(player_position, treasure_position)\n",
    "    \n",
    "    move = input(\"Enter direction (N: North, S: South, E: East, W: West): \").upper()\n",
    "\n",
    "    if move == \"N\" and player_position[1] > 0:\n",
    "        player_position[1] -= 1\n",
    "    elif move == \"S\" and player_position[1] < grid_size - 1:\n",
    "        player_position[1] += 1\n",
    "    elif move == \"E\" and player_position[0] < grid_size - 1:\n",
    "        player_position[0] += 1\n",
    "    elif move == \"W\" and player_position[0] > 0:\n",
    "        player_position[0] -= 1\n",
    "    else:\n",
    "        print(\"Illegal move! Stay within the grid boundaries.\")\n",
    "        continue\n",
    "                                           \n",
    "    new_distance = distance(player_position, treasure_position)\n",
    "    \n",
    "\n",
    "    if player_position == treasure_position:\n",
    "        print(\"Congratulations! You found the treasure!\")\n",
    "        break\n",
    "    else:\n",
    "        if new_distance < current_distance:\n",
    "            print(\"You are getting closer!\")\n",
    "        else:\n",
    "            print(\"You are moving farther away!\")\n",
    "\n",
    "    moves_left -= 1\n",
    "    print(f\"Moves remaining: {moves_left}\")\n",
    "\n",
    "if player_position != treasure_position:\n",
    "    print(f\"Game over! You ran out of moves. The treasure was at: {treasure_position}\")\n"
   ]
  }
 ],
 "metadata": {
  "kernelspec": {
   "display_name": "Python 3",
   "language": "python",
   "name": "python3"
  },
  "language_info": {
   "codemirror_mode": {
    "name": "ipython",
    "version": 3
   },
   "file_extension": ".py",
   "mimetype": "text/x-python",
   "name": "python",
   "nbconvert_exporter": "python",
   "pygments_lexer": "ipython3",
   "version": "3.8.10"
  }
 },
 "nbformat": 4,
 "nbformat_minor": 2
}
